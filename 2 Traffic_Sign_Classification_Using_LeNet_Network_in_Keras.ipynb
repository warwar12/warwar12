{
  "nbformat": 4,
  "nbformat_minor": 0,
  "metadata": {
    "kernelspec": {
      "display_name": "Python 3",
      "language": "python",
      "name": "python3"
    },
    "language_info": {
      "codemirror_mode": {
        "name": "ipython",
        "version": 3
      },
      "file_extension": ".py",
      "mimetype": "text/x-python",
      "name": "python",
      "nbconvert_exporter": "python",
      "pygments_lexer": "ipython3",
      "version": "3.6.5"
    },
    "colab": {
      "name": "16. Traffic Sign Classification Using LeNet Network in Keras.ipynb",
      "provenance": [],
      "collapsed_sections": []
    }
  },
  "cells": [
    {
      "cell_type": "markdown",
      "metadata": {
        "id": "gOvypyK27TXd"
      },
      "source": [
        "# LE-NET 을 이용한 교통표지판 인식"
      ]
    },
    {
      "cell_type": "markdown",
      "metadata": {
        "id": "ZgP4VxNO7TXj"
      },
      "source": [
        "# STEP 0: PROBLEM STATEMENT"
      ]
    },
    {
      "cell_type": "markdown",
      "metadata": {
        "id": "kWLScyf07TXj"
      },
      "source": [
        "- 교통 표지판 이미지를 학습을 통해, 이 표지판을 분류하는 딥 뉴럴 네트워크를 만드는 것이 목표입니다.\n",
        "- 43개 종류의 교통 표지판 사용\n",
        "- Classes are as listed below: \n",
        "\n",
        "    - ( 0, b'Speed limit (20km/h)') ( 1, b'Speed limit (30km/h)')\n",
        "    - ( 2, b'Speed limit (50km/h)') ( 3, b'Speed limit (60km/h)')\n",
        "    - ( 4, b'Speed limit (70km/h)') ( 5, b'Speed limit (80km/h)')\n",
        "    - ( 6, b'End of speed limit (80km/h)') ( 7, b'Speed limit (100km/h)')\n",
        "    - ( 8, b'Speed limit (120km/h)') ( 9, b'No passing')\n",
        "    - (10, b'No passing for vehicles over 3.5 metric tons')\n",
        "    - (11, b'Right-of-way at the next intersection') (12, b'Priority road')\n",
        "    - (13, b'Yield') (14, b'Stop') (15, b'No vehicles')\n",
        "    - (16, b'Vehicles over 3.5 metric tons prohibited') (17, b'No entry')\n",
        "    - (18, b'General caution') (19, b'Dangerous curve to the left')\n",
        "    - (20, b'Dangerous curve to the right') (21, b'Double curve')\n",
        "    - (22, b'Bumpy road') (23, b'Slippery road')\n",
        "    - (24, b'Road narrows on the right') (25, b'Road work')\n",
        "    - (26, b'Traffic signals') (27, b'Pedestrians') (28, b'Children crossing')\n",
        "    - (29, b'Bicycles crossing') (30, b'Beware of ice/snow')\n",
        "    - (31, b'Wild animals crossing')\n",
        "    - (32, b'End of all speed and passing limits') (33, b'Turn right ahead')\n",
        "    - (34, b'Turn left ahead') (35, b'Ahead only') (36, b'Go straight or right')\n",
        "    - (37, b'Go straight or left') (38, b'Keep right') (39, b'Keep left')\n",
        "    - (40, b'Roundabout mandatory') (41, b'End of no passing')\n",
        "    - (42, b'End of no passing by vehicles over 3.5 metric tons')\n",
        "\n",
        "- Yann LeCun 교수의 Le-Net 파일\n",
        "\n",
        "\n",
        "http://yann.lecun.com/exdb/publis/pdf/lecun-01a.pdf\n"
      ]
    },
    {
      "cell_type": "markdown",
      "metadata": {
        "id": "hce7w9q57TXk"
      },
      "source": [
        "# STEP 1: IMPORT LIBRARIES AND DATASET"
      ]
    },
    {
      "cell_type": "code",
      "metadata": {
        "id": "UjN5XfXN7TXl"
      },
      "source": [
        "import warnings\n",
        "warnings.filterwarnings(\"ignore\")"
      ],
      "execution_count": null,
      "outputs": []
    },
    {
      "cell_type": "code",
      "metadata": {
        "id": "H7sDQL6-7TXl"
      },
      "source": [
        "# import libraries \n",
        "import pickle\n",
        "import seaborn as sns\n",
        "import pandas as pd \n",
        "import numpy as np  \n",
        "import matplotlib.pyplot as plt  \n",
        "import random"
      ],
      "execution_count": null,
      "outputs": []
    },
    {
      "cell_type": "code",
      "metadata": {
        "id": "AW8LqR9u8EiP",
        "colab": {
          "base_uri": "https://localhost:8080/"
        },
        "outputId": "a7dc4cad-7ae8-41f1-993a-4534a73bb13f"
      },
      "source": [
        "from google.colab import drive\n",
        "drive.mount('/content/drive')"
      ],
      "execution_count": null,
      "outputs": [
        {
          "output_type": "stream",
          "text": [
            "Mounted at /content/drive\n"
          ],
          "name": "stdout"
        }
      ]
    },
    {
      "cell_type": "code",
      "metadata": {
        "id": "Ugg3zXwbCYrH"
      },
      "source": [
        ""
      ],
      "execution_count": null,
      "outputs": []
    },
    {
      "cell_type": "markdown",
      "metadata": {
        "id": "5YTRZ5VNCYjc"
      },
      "source": [
        "## 피클을 이용해서, 다음 세개의 파일을 읽어온다. \n",
        "\n",
        "파일 다운로드 : https://drive.google.com/file/d/1RFZVIK32bmQnZsKrPBlxAwvYl4NexApB/view?usp=sharing\n",
        "\n",
        "train.p \n",
        "\n",
        "valid.p\n",
        "\n",
        "test.p"
      ]
    },
    {
      "cell_type": "markdown",
      "metadata": {
        "id": "nhxDZnpCCtrl"
      },
      "source": [
        "### 트레이닝셋, 밸리데이션셋, 테스트셋을 변수처리한다.\n",
        "\n"
      ]
    },
    {
      "cell_type": "code",
      "metadata": {
        "id": "s2mzZNACC95Y"
      },
      "source": [
        ""
      ],
      "execution_count": null,
      "outputs": []
    },
    {
      "cell_type": "code",
      "metadata": {
        "id": "ZjsNx6CyC9yX"
      },
      "source": [
        ""
      ],
      "execution_count": null,
      "outputs": []
    },
    {
      "cell_type": "code",
      "metadata": {
        "id": "JXQce_d2C9qd"
      },
      "source": [
        ""
      ],
      "execution_count": null,
      "outputs": []
    },
    {
      "cell_type": "markdown",
      "metadata": {
        "id": "ONUorK0b7TXo"
      },
      "source": [
        "# STEP 2: IMAGE EXPLORATION"
      ]
    },
    {
      "cell_type": "code",
      "metadata": {
        "id": "tT9-OHfCEmN2"
      },
      "source": [
        ""
      ],
      "execution_count": null,
      "outputs": []
    },
    {
      "cell_type": "code",
      "metadata": {
        "id": "kbiSthYzEmGf"
      },
      "source": [
        ""
      ],
      "execution_count": null,
      "outputs": []
    },
    {
      "cell_type": "code",
      "metadata": {
        "id": "0rQh0y0xDs0Y"
      },
      "source": [
        ""
      ],
      "execution_count": null,
      "outputs": []
    },
    {
      "cell_type": "code",
      "metadata": {
        "id": "qqgtQb9QDsoY"
      },
      "source": [
        ""
      ],
      "execution_count": null,
      "outputs": []
    },
    {
      "cell_type": "markdown",
      "metadata": {
        "id": "aTgmrRIi7TXo"
      },
      "source": [
        "# STEP 3: DATA PEPARATION"
      ]
    },
    {
      "cell_type": "code",
      "metadata": {
        "id": "Ae3Um89D7TXo"
      },
      "source": [
        "\n",
        "from sklearn.utils import shuffle\n",
        "\n"
      ],
      "execution_count": null,
      "outputs": []
    },
    {
      "cell_type": "code",
      "metadata": {
        "id": "-61YnYUxD3y9"
      },
      "source": [
        ""
      ],
      "execution_count": null,
      "outputs": []
    },
    {
      "cell_type": "code",
      "metadata": {
        "id": "DbdSD2YFD42b"
      },
      "source": [
        ""
      ],
      "execution_count": null,
      "outputs": []
    },
    {
      "cell_type": "code",
      "metadata": {
        "id": "LF4-lY1MD3ue"
      },
      "source": [
        ""
      ],
      "execution_count": null,
      "outputs": []
    },
    {
      "cell_type": "code",
      "metadata": {
        "id": "kItDwO3WD3qJ"
      },
      "source": [
        ""
      ],
      "execution_count": null,
      "outputs": []
    },
    {
      "cell_type": "code",
      "metadata": {
        "id": "SySTMb5MD3m-"
      },
      "source": [
        ""
      ],
      "execution_count": null,
      "outputs": []
    },
    {
      "cell_type": "markdown",
      "metadata": {
        "id": "Y5i0WLhv7TXq"
      },
      "source": [
        "# STEP 4: MODEL TRAINING"
      ]
    },
    {
      "cell_type": "markdown",
      "metadata": {
        "id": "qzHdVBsw7TXq"
      },
      "source": [
        "르넷은 논문에 다음처럼 되어있다. 따라서 다음처럼 실제로 모델링을 해보자\n",
        "\n",
        "- STEP 1: THE FIRST CONVOLUTIONAL LAYER #1\n",
        "    - Input = 32x32x1\n",
        "    - Output = 28x28x6\n",
        "    - Output = (Input-filter+1)/Stride* => (32-5+1)/1=28\n",
        "    - Used a 5x5 Filter with input depth of 3 and output depth of 6\n",
        "    - Apply a RELU Activation function to the output\n",
        "    - pooling for input, Input = 28x28x6 and Output = 14x14x6\n",
        "\n",
        "\n",
        "    * Stride is the amount by which the kernel is shifted when the kernel is passed over the image.\n",
        "\n",
        "- STEP 2: THE SECOND CONVOLUTIONAL LAYER #2\n",
        "    - Input = 14x14x6\n",
        "    - Output = 10x10x16\n",
        "    - Layer 2: Convolutional layer with Output = 10x10x16\n",
        "    - Output = (Input-filter+1)/strides => 10 = 14-5+1/1\n",
        "    - Apply a RELU Activation function to the output\n",
        "    - Pooling with Input = 10x10x16 and Output = 5x5x16\n",
        "\n",
        "- STEP 3: FLATTENING THE NETWORK\n",
        "    - Flatten the network with Input = 5x5x16 and Output = 400\n",
        "\n",
        "- STEP 4: FULLY CONNECTED LAYER\n",
        "    - Layer 3: Fully Connected layer with Input = 400 and Output = 120\n",
        "    - Apply a RELU Activation function to the output\n",
        "\n",
        "- STEP 5: ANOTHER FULLY CONNECTED LAYER\n",
        "    - Layer 4: Fully Connected Layer with Input = 120 and Output = 84\n",
        "    - Apply a RELU Activation function to the output\n",
        "\n",
        "- STEP 6: FULLY CONNECTED LAYER\n",
        "    - Layer 5: Fully Connected layer with Input = 84 and Output = 43"
      ]
    },
    {
      "cell_type": "code",
      "metadata": {
        "id": "aZbQuFX67TXq"
      },
      "source": [
        "from keras.models import Sequential\n",
        "from keras.layers import Conv2D, MaxPooling2D, AveragePooling2D, Dense, Flatten, Dropout\n",
        "from keras.optimizers import Adam\n",
        "from keras.callbacks import TensorBoard\n",
        "\n",
        "from sklearn.model_selection import train_test_split\n"
      ],
      "execution_count": null,
      "outputs": []
    },
    {
      "cell_type": "code",
      "metadata": {
        "id": "1JtmAXbrELDV"
      },
      "source": [
        ""
      ],
      "execution_count": null,
      "outputs": []
    },
    {
      "cell_type": "code",
      "metadata": {
        "id": "n03EskJ3ELAm"
      },
      "source": [
        ""
      ],
      "execution_count": null,
      "outputs": []
    },
    {
      "cell_type": "code",
      "metadata": {
        "id": "Mp665jRcEK9s"
      },
      "source": [
        ""
      ],
      "execution_count": null,
      "outputs": []
    },
    {
      "cell_type": "code",
      "metadata": {
        "id": "iHDPHRhmEK5u"
      },
      "source": [
        ""
      ],
      "execution_count": null,
      "outputs": []
    },
    {
      "cell_type": "code",
      "metadata": {
        "id": "3O6JdqJPEK2w"
      },
      "source": [
        ""
      ],
      "execution_count": null,
      "outputs": []
    },
    {
      "cell_type": "code",
      "metadata": {
        "id": "leoofSrgEKzn"
      },
      "source": [
        ""
      ],
      "execution_count": null,
      "outputs": []
    },
    {
      "cell_type": "code",
      "metadata": {
        "id": "-ALvN2iPEKwi"
      },
      "source": [
        ""
      ],
      "execution_count": null,
      "outputs": []
    },
    {
      "cell_type": "markdown",
      "metadata": {
        "id": "duKVpTr17TXr"
      },
      "source": [
        "# STEP 5: MODEL EVALUATION"
      ]
    },
    {
      "cell_type": "code",
      "metadata": {
        "id": "ZrgMM9sTESbt"
      },
      "source": [
        ""
      ],
      "execution_count": null,
      "outputs": []
    },
    {
      "cell_type": "code",
      "metadata": {
        "id": "YDCP3oaPESTC"
      },
      "source": [
        ""
      ],
      "execution_count": null,
      "outputs": []
    },
    {
      "cell_type": "code",
      "metadata": {
        "id": "Gt8gU8C3ESQG"
      },
      "source": [
        ""
      ],
      "execution_count": null,
      "outputs": []
    },
    {
      "cell_type": "code",
      "metadata": {
        "id": "y4TF5K8DESMz"
      },
      "source": [
        ""
      ],
      "execution_count": null,
      "outputs": []
    },
    {
      "cell_type": "code",
      "metadata": {
        "id": "k4nuvIomESJs"
      },
      "source": [
        ""
      ],
      "execution_count": null,
      "outputs": []
    },
    {
      "cell_type": "code",
      "metadata": {
        "id": "cqJQ2YloESGm"
      },
      "source": [
        ""
      ],
      "execution_count": null,
      "outputs": []
    },
    {
      "cell_type": "code",
      "metadata": {
        "id": "ca2lrG1FESDs"
      },
      "source": [
        ""
      ],
      "execution_count": null,
      "outputs": []
    },
    {
      "cell_type": "code",
      "metadata": {
        "id": "c_aCSpPYESAc"
      },
      "source": [
        ""
      ],
      "execution_count": null,
      "outputs": []
    },
    {
      "cell_type": "code",
      "metadata": {
        "id": "8Q-LwtYvER9r"
      },
      "source": [
        ""
      ],
      "execution_count": null,
      "outputs": []
    },
    {
      "cell_type": "code",
      "metadata": {
        "id": "xdT0E3QqER6j"
      },
      "source": [
        ""
      ],
      "execution_count": null,
      "outputs": []
    },
    {
      "cell_type": "code",
      "metadata": {
        "id": "J7KjjEyqER31"
      },
      "source": [
        ""
      ],
      "execution_count": null,
      "outputs": []
    },
    {
      "cell_type": "code",
      "metadata": {
        "id": "CE9uGANDER01"
      },
      "source": [
        ""
      ],
      "execution_count": null,
      "outputs": []
    },
    {
      "cell_type": "code",
      "metadata": {
        "id": "QrKcm4vFERx2"
      },
      "source": [
        ""
      ],
      "execution_count": null,
      "outputs": []
    },
    {
      "cell_type": "code",
      "metadata": {
        "id": "hG41IweeERur"
      },
      "source": [
        ""
      ],
      "execution_count": null,
      "outputs": []
    },
    {
      "cell_type": "code",
      "metadata": {
        "id": "mNjf3qvwERrt"
      },
      "source": [
        ""
      ],
      "execution_count": null,
      "outputs": []
    },
    {
      "cell_type": "code",
      "metadata": {
        "id": "gBYACij5ERos"
      },
      "source": [
        ""
      ],
      "execution_count": null,
      "outputs": []
    }
  ]
}